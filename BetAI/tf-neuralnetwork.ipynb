{
 "cells": [
  {
   "cell_type": "markdown",
   "metadata": {},
   "source": [
    "# This cell is just a comment"
   ]
  },
  {
   "cell_type": "code",
   "execution_count": 25,
   "metadata": {},
   "outputs": [],
   "source": [
    "import pandas as pd\n",
    "import numpy as np\n",
    "import tensorflow as tf\n",
    "import sklearn\n",
    "from sklearn.model_selection import KFold\n",
    "import matplotlib\n",
    "import matplotlib.pyplot as plt\n",
    "from dateutil.parser import parse\n",
    "from datetime import datetime, timedelta\n",
    "from collections import deque"
   ]
  },
  {
   "cell_type": "code",
   "execution_count": 26,
   "metadata": {},
   "outputs": [
    {
     "name": "stdout",
     "output_type": "stream",
     "text": [
      "Pandas version:       0.22.0\n",
      "NumPy version:        1.14.0\n",
      "SciKit Learn version: 0.19.1\n",
      "TensorFlow version:   1.4.1\n",
      "MatPlotLib version:   2.1.1\n"
     ]
    }
   ],
   "source": [
    "%matplotlib inline\n",
    "\n",
    "print(\"Pandas version:      \", pd.__version__)\n",
    "print(\"NumPy version:       \", np.__version__)\n",
    "print(\"SciKit Learn version:\", sklearn.__version__)\n",
    "print(\"TensorFlow version:  \", tf.__version__)\n",
    "print(\"MatPlotLib version:  \", matplotlib.__version__)\n",
    "\n",
    "seed = 8\n",
    "tf.set_random_seed(seed)\n",
    "np.random.seed(seed)"
   ]
  },
  {
   "cell_type": "code",
   "execution_count": 27,
   "metadata": {},
   "outputs": [],
   "source": [
    "dataframe = pd.read_csv('data.csv')"
   ]
  },
  {
   "cell_type": "code",
   "execution_count": 28,
   "metadata": {},
   "outputs": [
    {
     "data": {
      "text/html": [
       "<div>\n",
       "<style scoped>\n",
       "    .dataframe tbody tr th:only-of-type {\n",
       "        vertical-align: middle;\n",
       "    }\n",
       "\n",
       "    .dataframe tbody tr th {\n",
       "        vertical-align: top;\n",
       "    }\n",
       "\n",
       "    .dataframe thead th {\n",
       "        text-align: right;\n",
       "    }\n",
       "</style>\n",
       "<table border=\"1\" class=\"dataframe\">\n",
       "  <thead>\n",
       "    <tr style=\"text-align: right;\">\n",
       "      <th></th>\n",
       "      <th>time</th>\n",
       "      <th>close</th>\n",
       "      <th>high</th>\n",
       "      <th>low</th>\n",
       "      <th>open</th>\n",
       "      <th>volumefrom</th>\n",
       "      <th>volumeto</th>\n",
       "    </tr>\n",
       "  </thead>\n",
       "  <tbody>\n",
       "    <tr>\n",
       "      <th>count</th>\n",
       "      <td>2.001000e+03</td>\n",
       "      <td>2001.000000</td>\n",
       "      <td>2001.000000</td>\n",
       "      <td>2001.000000</td>\n",
       "      <td>2001.000000</td>\n",
       "      <td>2001.000000</td>\n",
       "      <td>2.001000e+03</td>\n",
       "    </tr>\n",
       "    <tr>\n",
       "      <th>mean</th>\n",
       "      <td>1.515742e+09</td>\n",
       "      <td>1213.316302</td>\n",
       "      <td>1214.347266</td>\n",
       "      <td>1212.191539</td>\n",
       "      <td>1213.279900</td>\n",
       "      <td>442.564513</td>\n",
       "      <td>5.320743e+05</td>\n",
       "    </tr>\n",
       "    <tr>\n",
       "      <th>std</th>\n",
       "      <td>3.466700e+04</td>\n",
       "      <td>39.986442</td>\n",
       "      <td>39.736121</td>\n",
       "      <td>40.206798</td>\n",
       "      <td>39.971723</td>\n",
       "      <td>418.918444</td>\n",
       "      <td>4.839300e+05</td>\n",
       "    </tr>\n",
       "    <tr>\n",
       "      <th>min</th>\n",
       "      <td>1.515682e+09</td>\n",
       "      <td>1089.330000</td>\n",
       "      <td>1089.780000</td>\n",
       "      <td>1087.610000</td>\n",
       "      <td>1089.390000</td>\n",
       "      <td>34.410000</td>\n",
       "      <td>4.123481e+04</td>\n",
       "    </tr>\n",
       "    <tr>\n",
       "      <th>25%</th>\n",
       "      <td>1.515712e+09</td>\n",
       "      <td>1187.730000</td>\n",
       "      <td>1188.730000</td>\n",
       "      <td>1186.640000</td>\n",
       "      <td>1187.940000</td>\n",
       "      <td>205.050000</td>\n",
       "      <td>2.504435e+05</td>\n",
       "    </tr>\n",
       "    <tr>\n",
       "      <th>50%</th>\n",
       "      <td>1.515742e+09</td>\n",
       "      <td>1220.590000</td>\n",
       "      <td>1221.560000</td>\n",
       "      <td>1219.640000</td>\n",
       "      <td>1220.610000</td>\n",
       "      <td>322.320000</td>\n",
       "      <td>3.891339e+05</td>\n",
       "    </tr>\n",
       "    <tr>\n",
       "      <th>75%</th>\n",
       "      <td>1.515772e+09</td>\n",
       "      <td>1242.590000</td>\n",
       "      <td>1243.570000</td>\n",
       "      <td>1241.420000</td>\n",
       "      <td>1242.380000</td>\n",
       "      <td>541.070000</td>\n",
       "      <td>6.511088e+05</td>\n",
       "    </tr>\n",
       "    <tr>\n",
       "      <th>max</th>\n",
       "      <td>1.515802e+09</td>\n",
       "      <td>1286.970000</td>\n",
       "      <td>1287.060000</td>\n",
       "      <td>1286.320000</td>\n",
       "      <td>1286.970000</td>\n",
       "      <td>8409.070000</td>\n",
       "      <td>9.139128e+06</td>\n",
       "    </tr>\n",
       "  </tbody>\n",
       "</table>\n",
       "</div>"
      ],
      "text/plain": [
       "               time        close         high          low         open  \\\n",
       "count  2.001000e+03  2001.000000  2001.000000  2001.000000  2001.000000   \n",
       "mean   1.515742e+09  1213.316302  1214.347266  1212.191539  1213.279900   \n",
       "std    3.466700e+04    39.986442    39.736121    40.206798    39.971723   \n",
       "min    1.515682e+09  1089.330000  1089.780000  1087.610000  1089.390000   \n",
       "25%    1.515712e+09  1187.730000  1188.730000  1186.640000  1187.940000   \n",
       "50%    1.515742e+09  1220.590000  1221.560000  1219.640000  1220.610000   \n",
       "75%    1.515772e+09  1242.590000  1243.570000  1241.420000  1242.380000   \n",
       "max    1.515802e+09  1286.970000  1287.060000  1286.320000  1286.970000   \n",
       "\n",
       "        volumefrom      volumeto  \n",
       "count  2001.000000  2.001000e+03  \n",
       "mean    442.564513  5.320743e+05  \n",
       "std     418.918444  4.839300e+05  \n",
       "min      34.410000  4.123481e+04  \n",
       "25%     205.050000  2.504435e+05  \n",
       "50%     322.320000  3.891339e+05  \n",
       "75%     541.070000  6.511088e+05  \n",
       "max    8409.070000  9.139128e+06  "
      ]
     },
     "execution_count": 28,
     "metadata": {},
     "output_type": "execute_result"
    }
   ],
   "source": [
    "dataframe.describe()"
   ]
  },
  {
   "cell_type": "code",
   "execution_count": 29,
   "metadata": {},
   "outputs": [],
   "source": [
    "desired_columns = ['close', 'high', 'low', 'open']"
   ]
  },
  {
   "cell_type": "code",
   "execution_count": 30,
   "metadata": {},
   "outputs": [],
   "source": [
    "basic_mlp_data = dataframe[desired_columns]"
   ]
  },
  {
   "cell_type": "code",
   "execution_count": 31,
   "metadata": {},
   "outputs": [
    {
     "data": {
      "text/html": [
       "<div>\n",
       "<style scoped>\n",
       "    .dataframe tbody tr th:only-of-type {\n",
       "        vertical-align: middle;\n",
       "    }\n",
       "\n",
       "    .dataframe tbody tr th {\n",
       "        vertical-align: top;\n",
       "    }\n",
       "\n",
       "    .dataframe thead th {\n",
       "        text-align: right;\n",
       "    }\n",
       "</style>\n",
       "<table border=\"1\" class=\"dataframe\">\n",
       "  <thead>\n",
       "    <tr style=\"text-align: right;\">\n",
       "      <th></th>\n",
       "      <th>close</th>\n",
       "      <th>high</th>\n",
       "      <th>low</th>\n",
       "      <th>open</th>\n",
       "    </tr>\n",
       "  </thead>\n",
       "  <tbody>\n",
       "    <tr>\n",
       "      <th>0</th>\n",
       "      <td>1197.85</td>\n",
       "      <td>1199.65</td>\n",
       "      <td>1197.46</td>\n",
       "      <td>1198.12</td>\n",
       "    </tr>\n",
       "    <tr>\n",
       "      <th>1</th>\n",
       "      <td>1198.36</td>\n",
       "      <td>1199.17</td>\n",
       "      <td>1196.48</td>\n",
       "      <td>1197.85</td>\n",
       "    </tr>\n",
       "    <tr>\n",
       "      <th>2</th>\n",
       "      <td>1198.53</td>\n",
       "      <td>1199.42</td>\n",
       "      <td>1197.02</td>\n",
       "      <td>1197.74</td>\n",
       "    </tr>\n",
       "    <tr>\n",
       "      <th>3</th>\n",
       "      <td>1199.84</td>\n",
       "      <td>1200.48</td>\n",
       "      <td>1198.53</td>\n",
       "      <td>1198.53</td>\n",
       "    </tr>\n",
       "    <tr>\n",
       "      <th>4</th>\n",
       "      <td>1201.61</td>\n",
       "      <td>1201.77</td>\n",
       "      <td>1199.59</td>\n",
       "      <td>1199.84</td>\n",
       "    </tr>\n",
       "  </tbody>\n",
       "</table>\n",
       "</div>"
      ],
      "text/plain": [
       "     close     high      low     open\n",
       "0  1197.85  1199.65  1197.46  1198.12\n",
       "1  1198.36  1199.17  1196.48  1197.85\n",
       "2  1198.53  1199.42  1197.02  1197.74\n",
       "3  1199.84  1200.48  1198.53  1198.53\n",
       "4  1201.61  1201.77  1199.59  1199.84"
      ]
     },
     "execution_count": 31,
     "metadata": {},
     "output_type": "execute_result"
    }
   ],
   "source": [
    "basic_mlp_data.head()"
   ]
  },
  {
   "cell_type": "code",
   "execution_count": 32,
   "metadata": {},
   "outputs": [],
   "source": [
    "tf.reset_default_graph()"
   ]
  },
  {
   "cell_type": "code",
   "execution_count": 33,
   "metadata": {},
   "outputs": [],
   "source": [
    "# Define the Neural Network topology with the 'net_hidden_sizes'\n",
    "# and how much we should regularise it and how quickly it should\n",
    "# learn. Also the type of non linearity we should use.\n",
    "amount_epochs = 50\n",
    "learning_rate = 0.001\n",
    "batch_size = 128\n",
    "net_hidden_sizes = [128, 64, 8]\n",
    "l2_strength = 0.01\n",
    "non_linearity = tf.nn.relu\n",
    "dropout_amount = 0.7"
   ]
  },
  {
   "cell_type": "code",
   "execution_count": 34,
   "metadata": {},
   "outputs": [],
   "source": [
    "# The input to the graph - the targets (close) and the inputs\n",
    "# (open). Also a placeholder to pass a variable dropout rate. \n",
    "net_input = tf.placeholder(tf.float32, shape=[None, 1])\n",
    "net_target = tf.placeholder(tf.float32, shape=[None, 1])\n",
    "dropout_prob = tf.placeholder(tf.float32)\n",
    "\n",
    "# L2 regularisation to penalise the weights from growing too\n",
    "# large. Useful to prevent overfitting.\n",
    "regulariser = tf.contrib.layers.l2_regularizer(scale=l2_strength)\n"
   ]
  },
  {
   "cell_type": "code",
   "execution_count": 36,
   "metadata": {},
   "outputs": [],
   "source": [
    "\n",
    "# Build the network from the list of dimensions. Apply l2 and\n",
    "# dropout regularisation to the layers.\n",
    "net = net_input\n",
    "for size in net_hidden_sizes:\n",
    "    net = tf.layers.dense(inputs=net, \n",
    "                          units=size, \n",
    "                          activation=non_linearity, \n",
    "                          kernel_regularizer=regulariser)\n",
    "    net = tf.layers.dropout(inputs=net,\n",
    "                            rate=dropout_prob)\n",
    "\n",
    "# The models prediction has a linear output. \n",
    "net_output = tf.layers.dense(inputs=net,\n",
    "                             units=1, \n",
    "                             activation=None, \n",
    "                             kernel_regularizer=regulariser)    \n",
    "\n",
    "# The main loss for penalising the network on how well it does.\n",
    "loss = tf.losses.mean_squared_error(labels=net_target, \n",
    "                                    predictions=net_output)\n",
    "\n",
    "# TensorFlows manner of applying l2 to the loss.\n",
    "l2_variables = tf.get_collection(tf.GraphKeys.REGULARIZATION_LOSSES)\n",
    "l2_loss = tf.contrib.layers.apply_regularization(regulariser, \n",
    "                                                 l2_variables)\n",
    "total_loss = loss + l2_loss\n",
    "\n",
    "# Train and initialisation TensorFlow operations to be ran\n",
    "# in the session.\n",
    "train_op = tf.train.AdamOptimizer(learning_rate).minimize(total_loss)\n",
    "init_op = tf.global_variables_initializer()"
   ]
  },
  {
   "cell_type": "code",
   "execution_count": 37,
   "metadata": {},
   "outputs": [
    {
     "name": "stdout",
     "output_type": "stream",
     "text": [
      "\n",
      "Fold iteration:   0 \n",
      "Error mean:       2.0353074 \n",
      "Error deviation:  0.82507384 \n",
      "\n",
      "\n",
      "Fold iteration:   1 \n",
      "Error mean:       1.2169592 \n",
      "Error deviation:  0.33356398 \n",
      "\n",
      "\n",
      "Fold iteration:   2 \n",
      "Error mean:       2.0825825 \n",
      "Error deviation:  0.68660593 \n",
      "\n",
      "\n",
      "Fold iteration:   3 \n",
      "Error mean:       1.9011098 \n",
      "Error deviation:  0.60388154 \n",
      "\n",
      "\n",
      "Fold iteration:   4 \n",
      "Error mean:       2.2237616 \n",
      "Error deviation:  0.63332665 \n",
      "\n"
     ]
    }
   ],
   "source": [
    "with tf.Session() as sess:\n",
    "    \n",
    "    amount_folds = 5\n",
    "    k_folds = KFold(n_splits=amount_folds)\n",
    "    data = basic_mlp_data.as_matrix()\n",
    "    fold_errors = []\n",
    "    fold_iteration = 0\n",
    "    \n",
    "    # Cross validate the dataset, using K-Fold.\n",
    "    for train_indices, test_indices in k_folds.split(data):\n",
    "\n",
    "        # Each new fold, reinitialise the network.\n",
    "        sess.run(init_op)\n",
    "        \n",
    "        # Training phase.\n",
    "        for epoch in range(amount_epochs):\n",
    "            \n",
    "            # Each new epoch, reshuffle the train set.\n",
    "            random_train_indices = np.random.permutation(train_indices)\n",
    "            train_set = data[random_train_indices]\n",
    "            \n",
    "            # Loop over the train set and optimise the network.\n",
    "            for begin in range(0, len(train_set), batch_size):\n",
    "                end = begin + batch_size\n",
    "                batch_x = train_set[begin:end].T[0].reshape((-1, 1))\n",
    "                batch_y = train_set[begin:end].T[1].reshape((-1, 1))\n",
    "                \n",
    "                sess.run(train_op, feed_dict={\n",
    "                    net_input: batch_x,\n",
    "                    net_target: batch_y,\n",
    "                    dropout_prob: dropout_amount\n",
    "                })\n",
    "        \n",
    "        # Testing phase.\n",
    "        test_set = data[test_indices]\n",
    "        \n",
    "        # Collate the error over the test set.\n",
    "        all_error = []\n",
    "        for begin in range(0, len(test_set), batch_size):\n",
    "            end = begin + batch_size \n",
    "            batch_x = train_set[begin:end].T[0].reshape((-1, 1))\n",
    "            batch_y = train_set[begin:end].T[1].reshape((-1, 1))\n",
    "            \n",
    "            error = sess.run(loss, feed_dict={\n",
    "                net_input: batch_x,\n",
    "                net_target: batch_y,\n",
    "                dropout_prob: 1.0\n",
    "            }) \n",
    "            all_error.append(error)\n",
    "        \n",
    "        all_error = np.array(all_error).reshape((-1))\n",
    "        fold_errors.append(all_error)\n",
    "        \n",
    "        print(\"\\nFold iteration:  \", fold_iteration,\n",
    "              \"\\nError mean:      \", np.mean(all_error),\n",
    "              \"\\nError deviation: \", np.std(all_error),\n",
    "              \"\\n\")\n",
    "        fold_iteration += 1      \n",
    "        \n",
    "    fold_errors = np.array(fold_errors).reshape((amount_folds, -1))"
   ]
  },
  {
   "cell_type": "code",
   "execution_count": 38,
   "metadata": {},
   "outputs": [
    {
     "data": {
      "text/plain": [
       "<matplotlib.figure.Figure at 0x118118898>"
      ]
     },
     "metadata": {},
     "output_type": "display_data"
    },
    {
     "data": {
      "image/png": "[encoded data removed]",
      "text/plain": [
       "<matplotlib.figure.Figure at 0x11799d8d0>"
      ]
     },
     "metadata": {},
     "output_type": "display_data"
    }
   ],
   "source": [
    "hist_data = dict()\n",
    "keys = ['fold 0', 'fold 1', 'fold 2', 'fold 3', 'fold 4']\n",
    "for i, key in enumerate(keys):\n",
    "    hist_data[key] = fold_errors[i]\n",
    "    \n",
    "\n",
    "plt.figure()\n",
    "hist_dataframe = pd.DataFrame(hist_data, columns=keys)\n",
    "_ = hist_dataframe.hist(color='k', alpha=0.5, bins=50, figsize=(10, 10))"
   ]
  },
  {
   "cell_type": "code",
   "execution_count": 40,
   "metadata": {},
   "outputs": [
    {
     "data": {
      "text/html": [
       "<div>\n",
       "<style scoped>\n",
       "    .dataframe tbody tr th:only-of-type {\n",
       "        vertical-align: middle;\n",
       "    }\n",
       "\n",
       "    .dataframe tbody tr th {\n",
       "        vertical-align: top;\n",
       "    }\n",
       "\n",
       "    .dataframe thead th {\n",
       "        text-align: right;\n",
       "    }\n",
       "</style>\n",
       "<table border=\"1\" class=\"dataframe\">\n",
       "  <thead>\n",
       "    <tr style=\"text-align: right;\">\n",
       "      <th></th>\n",
       "      <th>time</th>\n",
       "      <th>volumefrom</th>\n",
       "      <th>volumeto</th>\n",
       "      <th>close</th>\n",
       "    </tr>\n",
       "  </thead>\n",
       "  <tbody>\n",
       "    <tr>\n",
       "      <th>0</th>\n",
       "      <td>1515681840</td>\n",
       "      <td>406.60</td>\n",
       "      <td>490077.26</td>\n",
       "      <td>1197.85</td>\n",
       "    </tr>\n",
       "    <tr>\n",
       "      <th>1</th>\n",
       "      <td>1515681900</td>\n",
       "      <td>415.94</td>\n",
       "      <td>499564.66</td>\n",
       "      <td>1198.36</td>\n",
       "    </tr>\n",
       "    <tr>\n",
       "      <th>2</th>\n",
       "      <td>1515681960</td>\n",
       "      <td>360.44</td>\n",
       "      <td>433644.49</td>\n",
       "      <td>1198.53</td>\n",
       "    </tr>\n",
       "    <tr>\n",
       "      <th>3</th>\n",
       "      <td>1515682020</td>\n",
       "      <td>392.52</td>\n",
       "      <td>472695.13</td>\n",
       "      <td>1199.84</td>\n",
       "    </tr>\n",
       "    <tr>\n",
       "      <th>4</th>\n",
       "      <td>1515682080</td>\n",
       "      <td>512.27</td>\n",
       "      <td>626426.66</td>\n",
       "      <td>1201.61</td>\n",
       "    </tr>\n",
       "  </tbody>\n",
       "</table>\n",
       "</div>"
      ],
      "text/plain": [
       "         time  volumefrom   volumeto    close\n",
       "0  1515681840      406.60  490077.26  1197.85\n",
       "1  1515681900      415.94  499564.66  1198.36\n",
       "2  1515681960      360.44  433644.49  1198.53\n",
       "3  1515682020      392.52  472695.13  1199.84\n",
       "4  1515682080      512.27  626426.66  1201.61"
      ]
     },
     "execution_count": 40,
     "metadata": {},
     "output_type": "execute_result"
    }
   ],
   "source": [
    "sequence_desired_cols = ['time', 'volumefrom', 'volumeto', 'close']\n",
    "sequence_data = dataframe[sequence_desired_cols]\n",
    "sequence_data = sequence_data.sort_values(by=['time'])\n",
    "sequence_data.head()"
   ]
  },
  {
   "cell_type": "code",
   "execution_count": 41,
   "metadata": {},
   "outputs": [
    {
     "data": {
      "text/plain": [
       "<tf.Tensor 'dense_8/BiasAdd:0' shape=(?, 1) dtype=float32>"
      ]
     },
     "execution_count": 41,
     "metadata": {},
     "output_type": "execute_result"
    }
   ],
   "source": [
    "net_output"
   ]
  },
  {
   "cell_type": "code",
   "execution_count": null,
   "metadata": {},
   "outputs": [],
   "source": []
  },
  {
   "cell_type": "code",
   "execution_count": null,
   "metadata": {},
   "outputs": [],
   "source": []
  }
 ],
 "metadata": {
  "kernelspec": {
   "display_name": "Python 3",
   "language": "python",
   "name": "python3"
  },
  "language_info": {
   "codemirror_mode": {
    "name": "ipython",
    "version": 3
   },
   "file_extension": ".py",
   "mimetype": "text/x-python",
   "name": "python",
   "nbconvert_exporter": "python",
   "pygments_lexer": "ipython3",
   "version": "3.6.4"
  }
 },
 "nbformat": 4,
 "nbformat_minor": 1
}
